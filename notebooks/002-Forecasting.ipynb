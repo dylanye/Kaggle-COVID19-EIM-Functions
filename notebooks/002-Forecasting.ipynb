{
 "cells": [
  {
   "cell_type": "markdown",
   "metadata": {},
   "source": [
    "# Forecasting the COVID-19 Virus Spread\n",
    "\n",
    "## This second notebook will focus on using the data transformed from the first notebook and forecasting the spread of the Coronavirus\n",
    "\n",
    "First of all, let's import the processed data from the first notebook. From there I would like to try out different models to see which way we can predict the spread the best possible way."
   ]
  },
  {
   "cell_type": "markdown",
   "metadata": {},
   "source": [
    "### Raw Data Sources\n",
    "* Main = covid_19_data.csv\n",
    "* Confirmed cases = time_series_covid_19_confirmed.csv\n",
    "* Death cases = time_series_covid_19_deaths.csv\n",
    "* Recovered cases = time_series_covid_19_recovered.csv\n",
    "\n",
    "Per case report:\n",
    "* Line list = COVID19_line_list_data.csv\n",
    "* Open line list = COVID19_open_line_list.csv"
   ]
  },
  {
   "cell_type": "markdown",
   "metadata": {},
   "source": [
    "### Changes\n",
    "* 23-03-2020: Start of project"
   ]
  },
  {
   "cell_type": "code",
   "execution_count": 39,
   "metadata": {},
   "outputs": [],
   "source": [
    "import os\n",
    "import pandas as pd\n",
    "import numpy as np\n",
    "from datetime import datetime\n",
    "import matplotlib.pyplot as plt\n",
    "import statsmodels\n",
    "plt.style.use('seaborn')\n",
    "%matplotlib inline "
   ]
  },
  {
   "cell_type": "code",
   "execution_count": 49,
   "metadata": {},
   "outputs": [],
   "source": [
    "df = pd.read_csv(r'https://raw.githubusercontent.com/dylanye/Kaggle-COVID19-EIM-Functions/master/data/02_processed/covid-19_total.csv', index_col=1)"
   ]
  },
  {
   "cell_type": "code",
   "execution_count": 50,
   "metadata": {
    "scrolled": true
   },
   "outputs": [],
   "source": [
    "df = df.drop(columns=['Unnamed: 0'])"
   ]
  },
  {
   "cell_type": "code",
   "execution_count": 51,
   "metadata": {
    "scrolled": true
   },
   "outputs": [],
   "source": [
    "df.index = pd.to_datetime(df.index)"
   ]
  },
  {
   "cell_type": "code",
   "execution_count": 52,
   "metadata": {},
   "outputs": [
    {
     "data": {
      "text/html": [
       "<div>\n",
       "<style scoped>\n",
       "    .dataframe tbody tr th:only-of-type {\n",
       "        vertical-align: middle;\n",
       "    }\n",
       "\n",
       "    .dataframe tbody tr th {\n",
       "        vertical-align: top;\n",
       "    }\n",
       "\n",
       "    .dataframe thead th {\n",
       "        text-align: right;\n",
       "    }\n",
       "</style>\n",
       "<table border=\"1\" class=\"dataframe\">\n",
       "  <thead>\n",
       "    <tr style=\"text-align: right;\">\n",
       "      <th></th>\n",
       "      <th>world_cases</th>\n",
       "      <th>total_deaths</th>\n",
       "      <th>total_recovered</th>\n",
       "      <th>mortality_rate</th>\n",
       "    </tr>\n",
       "    <tr>\n",
       "      <th>dates</th>\n",
       "      <th></th>\n",
       "      <th></th>\n",
       "      <th></th>\n",
       "      <th></th>\n",
       "    </tr>\n",
       "  </thead>\n",
       "  <tbody>\n",
       "    <tr>\n",
       "      <th>2020-03-18</th>\n",
       "      <td>214910</td>\n",
       "      <td>8733</td>\n",
       "      <td>83207</td>\n",
       "      <td>0.040636</td>\n",
       "    </tr>\n",
       "    <tr>\n",
       "      <th>2020-03-19</th>\n",
       "      <td>242708</td>\n",
       "      <td>9867</td>\n",
       "      <td>84854</td>\n",
       "      <td>0.040654</td>\n",
       "    </tr>\n",
       "    <tr>\n",
       "      <th>2020-03-20</th>\n",
       "      <td>272166</td>\n",
       "      <td>11299</td>\n",
       "      <td>87256</td>\n",
       "      <td>0.041515</td>\n",
       "    </tr>\n",
       "    <tr>\n",
       "      <th>2020-03-21</th>\n",
       "      <td>304524</td>\n",
       "      <td>12973</td>\n",
       "      <td>91499</td>\n",
       "      <td>0.042601</td>\n",
       "    </tr>\n",
       "    <tr>\n",
       "      <th>2020-03-22</th>\n",
       "      <td>335955</td>\n",
       "      <td>14632</td>\n",
       "      <td>97704</td>\n",
       "      <td>0.043553</td>\n",
       "    </tr>\n",
       "  </tbody>\n",
       "</table>\n",
       "</div>"
      ],
      "text/plain": [
       "            world_cases  total_deaths  total_recovered  mortality_rate\n",
       "dates                                                                 \n",
       "2020-03-18       214910          8733            83207        0.040636\n",
       "2020-03-19       242708          9867            84854        0.040654\n",
       "2020-03-20       272166         11299            87256        0.041515\n",
       "2020-03-21       304524         12973            91499        0.042601\n",
       "2020-03-22       335955         14632            97704        0.043553"
      ]
     },
     "execution_count": 52,
     "metadata": {},
     "output_type": "execute_result"
    }
   ],
   "source": [
    "df.tail()"
   ]
  },
  {
   "cell_type": "code",
   "execution_count": 54,
   "metadata": {
    "scrolled": true
   },
   "outputs": [
    {
     "data": {
      "text/html": [
       "<style  type=\"text/css\" >\n",
       "    #T_a3b76c45_6d20_11ea_adef_8c04ba30281frow0_col0 {\n",
       "            background-color:  #b40426;\n",
       "            color:  #f1f1f1;\n",
       "        }    #T_a3b76c45_6d20_11ea_adef_8c04ba30281frow0_col1 {\n",
       "            background-color:  #c43032;\n",
       "            color:  #f1f1f1;\n",
       "        }    #T_a3b76c45_6d20_11ea_adef_8c04ba30281frow0_col2 {\n",
       "            background-color:  #5977e3;\n",
       "            color:  #000000;\n",
       "        }    #T_a3b76c45_6d20_11ea_adef_8c04ba30281frow0_col3 {\n",
       "            background-color:  #3b4cc0;\n",
       "            color:  #f1f1f1;\n",
       "        }    #T_a3b76c45_6d20_11ea_adef_8c04ba30281frow1_col0 {\n",
       "            background-color:  #c43032;\n",
       "            color:  #f1f1f1;\n",
       "        }    #T_a3b76c45_6d20_11ea_adef_8c04ba30281frow1_col1 {\n",
       "            background-color:  #b40426;\n",
       "            color:  #f1f1f1;\n",
       "        }    #T_a3b76c45_6d20_11ea_adef_8c04ba30281frow1_col2 {\n",
       "            background-color:  #3b4cc0;\n",
       "            color:  #f1f1f1;\n",
       "        }    #T_a3b76c45_6d20_11ea_adef_8c04ba30281frow1_col3 {\n",
       "            background-color:  #3e51c5;\n",
       "            color:  #f1f1f1;\n",
       "        }    #T_a3b76c45_6d20_11ea_adef_8c04ba30281frow2_col0 {\n",
       "            background-color:  #d9dce1;\n",
       "            color:  #000000;\n",
       "        }    #T_a3b76c45_6d20_11ea_adef_8c04ba30281frow2_col1 {\n",
       "            background-color:  #c5d6f2;\n",
       "            color:  #000000;\n",
       "        }    #T_a3b76c45_6d20_11ea_adef_8c04ba30281frow2_col2 {\n",
       "            background-color:  #b40426;\n",
       "            color:  #f1f1f1;\n",
       "        }    #T_a3b76c45_6d20_11ea_adef_8c04ba30281frow2_col3 {\n",
       "            background-color:  #ecd3c5;\n",
       "            color:  #000000;\n",
       "        }    #T_a3b76c45_6d20_11ea_adef_8c04ba30281frow3_col0 {\n",
       "            background-color:  #3b4cc0;\n",
       "            color:  #f1f1f1;\n",
       "        }    #T_a3b76c45_6d20_11ea_adef_8c04ba30281frow3_col1 {\n",
       "            background-color:  #3b4cc0;\n",
       "            color:  #f1f1f1;\n",
       "        }    #T_a3b76c45_6d20_11ea_adef_8c04ba30281frow3_col2 {\n",
       "            background-color:  #88abfd;\n",
       "            color:  #000000;\n",
       "        }    #T_a3b76c45_6d20_11ea_adef_8c04ba30281frow3_col3 {\n",
       "            background-color:  #b40426;\n",
       "            color:  #f1f1f1;\n",
       "        }</style><table id=\"T_a3b76c45_6d20_11ea_adef_8c04ba30281f\" ><thead>    <tr>        <th class=\"blank level0\" ></th>        <th class=\"col_heading level0 col0\" >world_cases</th>        <th class=\"col_heading level0 col1\" >total_deaths</th>        <th class=\"col_heading level0 col2\" >total_recovered</th>        <th class=\"col_heading level0 col3\" >mortality_rate</th>    </tr></thead><tbody>\n",
       "                <tr>\n",
       "                        <th id=\"T_a3b76c45_6d20_11ea_adef_8c04ba30281flevel0_row0\" class=\"row_heading level0 row0\" >world_cases</th>\n",
       "                        <td id=\"T_a3b76c45_6d20_11ea_adef_8c04ba30281frow0_col0\" class=\"data row0 col0\" >1.000000</td>\n",
       "                        <td id=\"T_a3b76c45_6d20_11ea_adef_8c04ba30281frow0_col1\" class=\"data row0 col1\" >0.993063</td>\n",
       "                        <td id=\"T_a3b76c45_6d20_11ea_adef_8c04ba30281frow0_col2\" class=\"data row0 col2\" >0.919106</td>\n",
       "                        <td id=\"T_a3b76c45_6d20_11ea_adef_8c04ba30281frow0_col3\" class=\"data row0 col3\" >0.843108</td>\n",
       "            </tr>\n",
       "            <tr>\n",
       "                        <th id=\"T_a3b76c45_6d20_11ea_adef_8c04ba30281flevel0_row1\" class=\"row_heading level0 row1\" >total_deaths</th>\n",
       "                        <td id=\"T_a3b76c45_6d20_11ea_adef_8c04ba30281frow1_col0\" class=\"data row1 col0\" >0.993063</td>\n",
       "                        <td id=\"T_a3b76c45_6d20_11ea_adef_8c04ba30281frow1_col1\" class=\"data row1 col1\" >1.000000</td>\n",
       "                        <td id=\"T_a3b76c45_6d20_11ea_adef_8c04ba30281frow1_col2\" class=\"data row1 col2\" >0.910047</td>\n",
       "                        <td id=\"T_a3b76c45_6d20_11ea_adef_8c04ba30281frow1_col3\" class=\"data row1 col3\" >0.845485</td>\n",
       "            </tr>\n",
       "            <tr>\n",
       "                        <th id=\"T_a3b76c45_6d20_11ea_adef_8c04ba30281flevel0_row2\" class=\"row_heading level0 row2\" >total_recovered</th>\n",
       "                        <td id=\"T_a3b76c45_6d20_11ea_adef_8c04ba30281frow2_col0\" class=\"data row2 col0\" >0.919106</td>\n",
       "                        <td id=\"T_a3b76c45_6d20_11ea_adef_8c04ba30281frow2_col1\" class=\"data row2 col1\" >0.910047</td>\n",
       "                        <td id=\"T_a3b76c45_6d20_11ea_adef_8c04ba30281frow2_col2\" class=\"data row2 col2\" >1.000000</td>\n",
       "                        <td id=\"T_a3b76c45_6d20_11ea_adef_8c04ba30281frow2_col3\" class=\"data row2 col3\" >0.931451</td>\n",
       "            </tr>\n",
       "            <tr>\n",
       "                        <th id=\"T_a3b76c45_6d20_11ea_adef_8c04ba30281flevel0_row3\" class=\"row_heading level0 row3\" >mortality_rate</th>\n",
       "                        <td id=\"T_a3b76c45_6d20_11ea_adef_8c04ba30281frow3_col0\" class=\"data row3 col0\" >0.843108</td>\n",
       "                        <td id=\"T_a3b76c45_6d20_11ea_adef_8c04ba30281frow3_col1\" class=\"data row3 col1\" >0.845485</td>\n",
       "                        <td id=\"T_a3b76c45_6d20_11ea_adef_8c04ba30281frow3_col2\" class=\"data row3 col2\" >0.931451</td>\n",
       "                        <td id=\"T_a3b76c45_6d20_11ea_adef_8c04ba30281frow3_col3\" class=\"data row3 col3\" >1.000000</td>\n",
       "            </tr>\n",
       "    </tbody></table>"
      ],
      "text/plain": [
       "<pandas.io.formats.style.Styler at 0x21aadf6e8b0>"
      ]
     },
     "execution_count": 54,
     "metadata": {},
     "output_type": "execute_result"
    }
   ],
   "source": [
    "corr = df.corr()\n",
    "corr.style.background_gradient(cmap='coolwarm')"
   ]
  }
 ],
 "metadata": {
  "kernelspec": {
   "display_name": "Python 3",
   "language": "python",
   "name": "python3"
  },
  "language_info": {
   "codemirror_mode": {
    "name": "ipython",
    "version": 3
   },
   "file_extension": ".py",
   "mimetype": "text/x-python",
   "name": "python",
   "nbconvert_exporter": "python",
   "pygments_lexer": "ipython3",
   "version": "3.8.1"
  }
 },
 "nbformat": 4,
 "nbformat_minor": 4
}
