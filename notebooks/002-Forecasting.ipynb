{
 "cells": [
  {
   "cell_type": "markdown",
   "metadata": {},
   "source": [
    "# Forecasting the COVID-19 Virus Spread\n",
    "\n",
    "## This second notebook will focus on using the data transformed from the first notebook and forecasting the spread of the Coronavirus\n",
    "\n",
    "First of all, let's import the processed data from the first notebook. From there I would like to try out the ARIMA model to see if we are able to predict what will happen next during this outbreak."
   ]
  },
  {
   "cell_type": "markdown",
   "metadata": {},
   "source": [
    "### Raw Data Sources\n",
    "* Main = covid_19_data.csv\n",
    "* Confirmed cases = time_series_covid_19_confirmed.csv\n",
    "* Death cases = time_series_covid_19_deaths.csv\n",
    "* Recovered cases = time_series_covid_19_recovered.csv\n",
    "\n",
    "Per case report:\n",
    "* Line list = COVID19_line_list_data.csv\n",
    "* Open line list = COVID19_open_line_list.csv"
   ]
  },
  {
   "cell_type": "markdown",
   "metadata": {},
   "source": [
    "### Changes\n",
    "* 23-03-2020: Start of project"
   ]
  },
  {
   "cell_type": "code",
   "execution_count": 1,
   "metadata": {},
   "outputs": [],
   "source": [
    "import os\n",
    "import pandas as pd\n",
    "import numpy as np\n",
    "from datetime import datetime\n",
    "import matplotlib.pyplot as plt\n",
    "plt.style.use('seaborn')\n",
    "%matplotlib inline "
   ]
  },
  {
   "cell_type": "code",
   "execution_count": null,
   "metadata": {},
   "outputs": [],
   "source": [
    "df = "
   ]
  }
 ],
 "metadata": {
  "kernelspec": {
   "display_name": "Python 3",
   "language": "python",
   "name": "python3"
  },
  "language_info": {
   "codemirror_mode": {
    "name": "ipython",
    "version": 3
   },
   "file_extension": ".py",
   "mimetype": "text/x-python",
   "name": "python",
   "nbconvert_exporter": "python",
   "pygments_lexer": "ipython3",
   "version": "3.8.1"
  }
 },
 "nbformat": 4,
 "nbformat_minor": 4
}
