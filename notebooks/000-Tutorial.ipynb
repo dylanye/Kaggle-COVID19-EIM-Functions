{
 "cells": [
  {
   "cell_type": "markdown",
   "metadata": {},
   "source": [
    "# Hey guys!<br >\n",
    "\n",
    "## This will be an introductory notebook to get you started in Jupyter. This is my favourite way of working when doing data science. <br >\n",
    "\n",
    "To understand how to properly work together on this, a few things are required to run these notebooks properly. The easiest way is explained in this tutorial: https://medium.com/codingthesmartway-com-blog/getting-started-with-jupyter-notebook-for-python-4e7082bd5d46<br >\n",
    "<br >\n",
    "To make sure you are able to set up the environment for this Git correctly, I will try out some things to see if we can all work in this the easiest way possible. It will be a bit of trail and error, but I am sure you'll get the hang of it. <br >\n",
    "First thing, it is important to understand how to make sure you have got the same dependencies as I do. These are packages within Python that are needed to run the commands in these notebooks.<br ><br >\n",
    "See the example below and try to run it to see what happens."
   ]
  },
  {
   "cell_type": "code",
   "execution_count": null,
   "metadata": {},
   "outputs": [],
   "source": [
    "!pip install numpy\n",
    "\n",
    "import numpy as np\n",
    "\n",
    "a = np.arange(15).reshape(3, 5)\n",
    "print('This is a random numpy array: \\n', a)"
   ]
  }
 ],
 "metadata": {
  "kernelspec": {
   "display_name": "Python 3",
   "language": "python",
   "name": "python3"
  },
  "language_info": {
   "codemirror_mode": {
    "name": "ipython",
    "version": 3
   },
   "file_extension": ".py",
   "mimetype": "text/x-python",
   "name": "python",
   "nbconvert_exporter": "python",
   "pygments_lexer": "ipython3",
   "version": "3.8.1"
  }
 },
 "nbformat": 4,
 "nbformat_minor": 4
}
